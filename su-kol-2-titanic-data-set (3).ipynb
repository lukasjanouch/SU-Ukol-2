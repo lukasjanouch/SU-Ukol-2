{
 "cells": [
  {
   "cell_type": "code",
   "execution_count": 1,
   "id": "0b5b93cb",
   "metadata": {
    "_cell_guid": "b1076dfc-b9ad-4769-8c92-a6c4dae69d19",
    "_uuid": "8f2839f25d086af736a60e9eeb907d3b93b6e0e5",
    "execution": {
     "iopub.execute_input": "2022-01-06T19:54:43.049868Z",
     "iopub.status.busy": "2022-01-06T19:54:43.048543Z",
     "iopub.status.idle": "2022-01-06T19:54:44.388424Z",
     "shell.execute_reply": "2022-01-06T19:54:44.387391Z",
     "shell.execute_reply.started": "2022-01-06T19:21:42.453205Z"
    },
    "papermill": {
     "duration": 1.363972,
     "end_time": "2022-01-06T19:54:44.388674",
     "exception": false,
     "start_time": "2022-01-06T19:54:43.024702",
     "status": "completed"
    },
    "tags": []
   },
   "outputs": [
    {
     "name": "stdout",
     "output_type": "stream",
     "text": [
      "/kaggle/input/titanic/train.csv\n",
      "/kaggle/input/titanic/test.csv\n",
      "/kaggle/input/titanic/gender_submission.csv\n"
     ]
    }
   ],
   "source": [
    "# This Python 3 environment comes with many helpful analytics libraries installed\n",
    "# It is defined by the kaggle/python Docker image: https://github.com/kaggle/docker-python\n",
    "# For example, here's several helpful packages to load\n",
    "\n",
    "import numpy as np # linear algebra\n",
    "import pandas as pd # data processing, CSV file I/O (e.g. pd.read_csv)\n",
    "from sklearn.ensemble import RandomForestClassifier\n",
    "from sklearn.linear_model import LogisticRegression\n",
    "from sklearn.metrics import accuracy_score \n",
    "from sklearn.metrics import confusion_matrix, classification_report\n",
    "from sklearn.metrics import plot_confusion_matrix\n",
    "from sklearn.metrics import mean_absolute_error\n",
    "from sklearn.model_selection import train_test_split\n",
    "\n",
    "# Input data files are available in the read-only \"../input/\" directory\n",
    "# For example, running this (by clicking run or pressing Shift+Enter) will list all files under the input directory\n",
    "\n",
    "import os\n",
    "for dirname, _, filenames in os.walk('/kaggle/input'):\n",
    "    for filename in filenames:\n",
    "        print(os.path.join(dirname, filename))\n",
    "\n",
    "# You can write up to 20GB to the current directory (/kaggle/working/) that gets preserved as output when you create a version using \"Save & Run All\" \n",
    "# You can also write temporary files to /kaggle/temp/, but they won't be saved outside of the current session"
   ]
  },
  {
   "cell_type": "code",
   "execution_count": 2,
   "id": "a87c5940",
   "metadata": {
    "execution": {
     "iopub.execute_input": "2022-01-06T19:54:44.431244Z",
     "iopub.status.busy": "2022-01-06T19:54:44.430221Z",
     "iopub.status.idle": "2022-01-06T19:54:44.589010Z",
     "shell.execute_reply": "2022-01-06T19:54:44.589785Z",
     "shell.execute_reply.started": "2022-01-06T19:45:15.401877Z"
    },
    "papermill": {
     "duration": 0.182631,
     "end_time": "2022-01-06T19:54:44.590004",
     "exception": false,
     "start_time": "2022-01-06T19:54:44.407373",
     "status": "completed"
    },
    "tags": []
   },
   "outputs": [
    {
     "data": {
      "text/html": [
       "<div>\n",
       "<style scoped>\n",
       "    .dataframe tbody tr th:only-of-type {\n",
       "        vertical-align: middle;\n",
       "    }\n",
       "\n",
       "    .dataframe tbody tr th {\n",
       "        vertical-align: top;\n",
       "    }\n",
       "\n",
       "    .dataframe thead th {\n",
       "        text-align: right;\n",
       "    }\n",
       "</style>\n",
       "<table border=\"1\" class=\"dataframe\">\n",
       "  <thead>\n",
       "    <tr style=\"text-align: right;\">\n",
       "      <th></th>\n",
       "      <th>PassengerId</th>\n",
       "      <th>Survived</th>\n",
       "      <th>Pclass</th>\n",
       "      <th>Name</th>\n",
       "      <th>Sex</th>\n",
       "      <th>Age</th>\n",
       "      <th>SibSp</th>\n",
       "      <th>Parch</th>\n",
       "      <th>Ticket</th>\n",
       "      <th>Fare</th>\n",
       "      <th>Cabin</th>\n",
       "      <th>Embarked</th>\n",
       "    </tr>\n",
       "  </thead>\n",
       "  <tbody>\n",
       "    <tr>\n",
       "      <th>0</th>\n",
       "      <td>1</td>\n",
       "      <td>0</td>\n",
       "      <td>3</td>\n",
       "      <td>Braund, Mr. Owen Harris</td>\n",
       "      <td>male</td>\n",
       "      <td>22.0</td>\n",
       "      <td>1</td>\n",
       "      <td>0</td>\n",
       "      <td>A/5 21171</td>\n",
       "      <td>7.2500</td>\n",
       "      <td>NaN</td>\n",
       "      <td>S</td>\n",
       "    </tr>\n",
       "    <tr>\n",
       "      <th>1</th>\n",
       "      <td>2</td>\n",
       "      <td>1</td>\n",
       "      <td>1</td>\n",
       "      <td>Cumings, Mrs. John Bradley (Florence Briggs Th...</td>\n",
       "      <td>female</td>\n",
       "      <td>38.0</td>\n",
       "      <td>1</td>\n",
       "      <td>0</td>\n",
       "      <td>PC 17599</td>\n",
       "      <td>71.2833</td>\n",
       "      <td>C85</td>\n",
       "      <td>C</td>\n",
       "    </tr>\n",
       "    <tr>\n",
       "      <th>2</th>\n",
       "      <td>3</td>\n",
       "      <td>1</td>\n",
       "      <td>3</td>\n",
       "      <td>Heikkinen, Miss. Laina</td>\n",
       "      <td>female</td>\n",
       "      <td>26.0</td>\n",
       "      <td>0</td>\n",
       "      <td>0</td>\n",
       "      <td>STON/O2. 3101282</td>\n",
       "      <td>7.9250</td>\n",
       "      <td>NaN</td>\n",
       "      <td>S</td>\n",
       "    </tr>\n",
       "    <tr>\n",
       "      <th>3</th>\n",
       "      <td>4</td>\n",
       "      <td>1</td>\n",
       "      <td>1</td>\n",
       "      <td>Futrelle, Mrs. Jacques Heath (Lily May Peel)</td>\n",
       "      <td>female</td>\n",
       "      <td>35.0</td>\n",
       "      <td>1</td>\n",
       "      <td>0</td>\n",
       "      <td>113803</td>\n",
       "      <td>53.1000</td>\n",
       "      <td>C123</td>\n",
       "      <td>S</td>\n",
       "    </tr>\n",
       "    <tr>\n",
       "      <th>4</th>\n",
       "      <td>5</td>\n",
       "      <td>0</td>\n",
       "      <td>3</td>\n",
       "      <td>Allen, Mr. William Henry</td>\n",
       "      <td>male</td>\n",
       "      <td>35.0</td>\n",
       "      <td>0</td>\n",
       "      <td>0</td>\n",
       "      <td>373450</td>\n",
       "      <td>8.0500</td>\n",
       "      <td>NaN</td>\n",
       "      <td>S</td>\n",
       "    </tr>\n",
       "  </tbody>\n",
       "</table>\n",
       "</div>"
      ],
      "text/plain": [
       "   PassengerId  Survived  Pclass  \\\n",
       "0            1         0       3   \n",
       "1            2         1       1   \n",
       "2            3         1       3   \n",
       "3            4         1       1   \n",
       "4            5         0       3   \n",
       "\n",
       "                                                Name     Sex   Age  SibSp  \\\n",
       "0                            Braund, Mr. Owen Harris    male  22.0      1   \n",
       "1  Cumings, Mrs. John Bradley (Florence Briggs Th...  female  38.0      1   \n",
       "2                             Heikkinen, Miss. Laina  female  26.0      0   \n",
       "3       Futrelle, Mrs. Jacques Heath (Lily May Peel)  female  35.0      1   \n",
       "4                           Allen, Mr. William Henry    male  35.0      0   \n",
       "\n",
       "   Parch            Ticket     Fare Cabin Embarked  \n",
       "0      0         A/5 21171   7.2500   NaN        S  \n",
       "1      0          PC 17599  71.2833   C85        C  \n",
       "2      0  STON/O2. 3101282   7.9250   NaN        S  \n",
       "3      0            113803  53.1000  C123        S  \n",
       "4      0            373450   8.0500   NaN        S  "
      ]
     },
     "execution_count": 2,
     "metadata": {},
     "output_type": "execute_result"
    }
   ],
   "source": [
    "train_data = pd.read_csv(\"/kaggle/input/titanic/train.csv\")\n",
    "train_data.head()"
   ]
  },
  {
   "cell_type": "code",
   "execution_count": 3,
   "id": "f70ef3d1",
   "metadata": {
    "execution": {
     "iopub.execute_input": "2022-01-06T19:54:44.633795Z",
     "iopub.status.busy": "2022-01-06T19:54:44.633061Z",
     "iopub.status.idle": "2022-01-06T19:54:44.656447Z",
     "shell.execute_reply": "2022-01-06T19:54:44.657032Z",
     "shell.execute_reply.started": "2022-01-06T19:47:14.048160Z"
    },
    "papermill": {
     "duration": 0.048397,
     "end_time": "2022-01-06T19:54:44.657219",
     "exception": false,
     "start_time": "2022-01-06T19:54:44.608822",
     "status": "completed"
    },
    "tags": []
   },
   "outputs": [
    {
     "data": {
      "text/html": [
       "<div>\n",
       "<style scoped>\n",
       "    .dataframe tbody tr th:only-of-type {\n",
       "        vertical-align: middle;\n",
       "    }\n",
       "\n",
       "    .dataframe tbody tr th {\n",
       "        vertical-align: top;\n",
       "    }\n",
       "\n",
       "    .dataframe thead th {\n",
       "        text-align: right;\n",
       "    }\n",
       "</style>\n",
       "<table border=\"1\" class=\"dataframe\">\n",
       "  <thead>\n",
       "    <tr style=\"text-align: right;\">\n",
       "      <th></th>\n",
       "      <th>PassengerId</th>\n",
       "      <th>Pclass</th>\n",
       "      <th>Name</th>\n",
       "      <th>Sex</th>\n",
       "      <th>Age</th>\n",
       "      <th>SibSp</th>\n",
       "      <th>Parch</th>\n",
       "      <th>Ticket</th>\n",
       "      <th>Fare</th>\n",
       "      <th>Cabin</th>\n",
       "      <th>Embarked</th>\n",
       "    </tr>\n",
       "  </thead>\n",
       "  <tbody>\n",
       "    <tr>\n",
       "      <th>0</th>\n",
       "      <td>892</td>\n",
       "      <td>3</td>\n",
       "      <td>Kelly, Mr. James</td>\n",
       "      <td>male</td>\n",
       "      <td>34.5</td>\n",
       "      <td>0</td>\n",
       "      <td>0</td>\n",
       "      <td>330911</td>\n",
       "      <td>7.8292</td>\n",
       "      <td>NaN</td>\n",
       "      <td>Q</td>\n",
       "    </tr>\n",
       "    <tr>\n",
       "      <th>1</th>\n",
       "      <td>893</td>\n",
       "      <td>3</td>\n",
       "      <td>Wilkes, Mrs. James (Ellen Needs)</td>\n",
       "      <td>female</td>\n",
       "      <td>47.0</td>\n",
       "      <td>1</td>\n",
       "      <td>0</td>\n",
       "      <td>363272</td>\n",
       "      <td>7.0000</td>\n",
       "      <td>NaN</td>\n",
       "      <td>S</td>\n",
       "    </tr>\n",
       "    <tr>\n",
       "      <th>2</th>\n",
       "      <td>894</td>\n",
       "      <td>2</td>\n",
       "      <td>Myles, Mr. Thomas Francis</td>\n",
       "      <td>male</td>\n",
       "      <td>62.0</td>\n",
       "      <td>0</td>\n",
       "      <td>0</td>\n",
       "      <td>240276</td>\n",
       "      <td>9.6875</td>\n",
       "      <td>NaN</td>\n",
       "      <td>Q</td>\n",
       "    </tr>\n",
       "    <tr>\n",
       "      <th>3</th>\n",
       "      <td>895</td>\n",
       "      <td>3</td>\n",
       "      <td>Wirz, Mr. Albert</td>\n",
       "      <td>male</td>\n",
       "      <td>27.0</td>\n",
       "      <td>0</td>\n",
       "      <td>0</td>\n",
       "      <td>315154</td>\n",
       "      <td>8.6625</td>\n",
       "      <td>NaN</td>\n",
       "      <td>S</td>\n",
       "    </tr>\n",
       "    <tr>\n",
       "      <th>4</th>\n",
       "      <td>896</td>\n",
       "      <td>3</td>\n",
       "      <td>Hirvonen, Mrs. Alexander (Helga E Lindqvist)</td>\n",
       "      <td>female</td>\n",
       "      <td>22.0</td>\n",
       "      <td>1</td>\n",
       "      <td>1</td>\n",
       "      <td>3101298</td>\n",
       "      <td>12.2875</td>\n",
       "      <td>NaN</td>\n",
       "      <td>S</td>\n",
       "    </tr>\n",
       "  </tbody>\n",
       "</table>\n",
       "</div>"
      ],
      "text/plain": [
       "   PassengerId  Pclass                                          Name     Sex  \\\n",
       "0          892       3                              Kelly, Mr. James    male   \n",
       "1          893       3              Wilkes, Mrs. James (Ellen Needs)  female   \n",
       "2          894       2                     Myles, Mr. Thomas Francis    male   \n",
       "3          895       3                              Wirz, Mr. Albert    male   \n",
       "4          896       3  Hirvonen, Mrs. Alexander (Helga E Lindqvist)  female   \n",
       "\n",
       "    Age  SibSp  Parch   Ticket     Fare Cabin Embarked  \n",
       "0  34.5      0      0   330911   7.8292   NaN        Q  \n",
       "1  47.0      1      0   363272   7.0000   NaN        S  \n",
       "2  62.0      0      0   240276   9.6875   NaN        Q  \n",
       "3  27.0      0      0   315154   8.6625   NaN        S  \n",
       "4  22.0      1      1  3101298  12.2875   NaN        S  "
      ]
     },
     "execution_count": 3,
     "metadata": {},
     "output_type": "execute_result"
    }
   ],
   "source": [
    "test_data = pd.read_csv(\"/kaggle/input/titanic/test.csv\")\n",
    "test_data.head()"
   ]
  },
  {
   "cell_type": "code",
   "execution_count": 4,
   "id": "5ec30a17",
   "metadata": {
    "execution": {
     "iopub.execute_input": "2022-01-06T19:54:44.704316Z",
     "iopub.status.busy": "2022-01-06T19:54:44.699762Z",
     "iopub.status.idle": "2022-01-06T19:54:44.712693Z",
     "shell.execute_reply": "2022-01-06T19:54:44.711933Z",
     "shell.execute_reply.started": "2022-01-06T19:45:30.055265Z"
    },
    "papermill": {
     "duration": 0.035302,
     "end_time": "2022-01-06T19:54:44.712869",
     "exception": false,
     "start_time": "2022-01-06T19:54:44.677567",
     "status": "completed"
    },
    "tags": []
   },
   "outputs": [
    {
     "data": {
      "text/plain": [
       "PassengerId      0\n",
       "Survived         0\n",
       "Pclass           0\n",
       "Name             0\n",
       "Sex              0\n",
       "Age            177\n",
       "SibSp            0\n",
       "Parch            0\n",
       "Ticket           0\n",
       "Fare             0\n",
       "Cabin          687\n",
       "Embarked         2\n",
       "dtype: int64"
      ]
     },
     "execution_count": 4,
     "metadata": {},
     "output_type": "execute_result"
    }
   ],
   "source": [
    "missing_values_count = train_data.isnull().sum()\n",
    "missing_values_count[0:12]"
   ]
  },
  {
   "cell_type": "code",
   "execution_count": 5,
   "id": "e52818fe",
   "metadata": {
    "execution": {
     "iopub.execute_input": "2022-01-06T19:54:44.763359Z",
     "iopub.status.busy": "2022-01-06T19:54:44.762582Z",
     "iopub.status.idle": "2022-01-06T19:54:44.766770Z",
     "shell.execute_reply": "2022-01-06T19:54:44.766060Z",
     "shell.execute_reply.started": "2022-01-06T19:45:36.234510Z"
    },
    "papermill": {
     "duration": 0.033412,
     "end_time": "2022-01-06T19:54:44.766910",
     "exception": false,
     "start_time": "2022-01-06T19:54:44.733498",
     "status": "completed"
    },
    "tags": []
   },
   "outputs": [
    {
     "data": {
      "text/plain": [
       "PassengerId      0\n",
       "Pclass           0\n",
       "Name             0\n",
       "Sex              0\n",
       "Age             86\n",
       "SibSp            0\n",
       "Parch            0\n",
       "Ticket           0\n",
       "Fare             1\n",
       "Cabin          327\n",
       "Embarked         0\n",
       "dtype: int64"
      ]
     },
     "execution_count": 5,
     "metadata": {},
     "output_type": "execute_result"
    }
   ],
   "source": [
    "missing_values_count = test_data.isnull().sum()\n",
    "missing_values_count[0:11]"
   ]
  },
  {
   "cell_type": "code",
   "execution_count": 6,
   "id": "6a0b03fe",
   "metadata": {
    "execution": {
     "iopub.execute_input": "2022-01-06T19:54:44.826170Z",
     "iopub.status.busy": "2022-01-06T19:54:44.825321Z",
     "iopub.status.idle": "2022-01-06T19:54:44.840192Z",
     "shell.execute_reply": "2022-01-06T19:54:44.840740Z",
     "shell.execute_reply.started": "2022-01-06T19:46:31.409205Z"
    },
    "papermill": {
     "duration": 0.052905,
     "end_time": "2022-01-06T19:54:44.840915",
     "exception": false,
     "start_time": "2022-01-06T19:54:44.788010",
     "status": "completed"
    },
    "tags": []
   },
   "outputs": [],
   "source": [
    "train_data = train_data.dropna(axis = 0, subset = [\"Embarked\"])#odstranit řádek (axis=0) kde chybí hodnota ve sloupci \"Embarked\" - jsou jenom 2\n",
    "train_data['Sex'] = train_data['Sex'].replace('female', 0 )\n",
    "train_data['Sex'] = train_data['Sex'].replace('male', 1)\n",
    "train_data['Age'] = train_data['Age'].fillna(train_data.Age.mean())#chybějící hodnoty \"Age\" se vyplní průměrem \"Age\"\n",
    "#train_data.Age = train_data.Age.fillna(0)\n",
    "#train_data = train_data.dropna(axis = 0, subset = [\"Age\"])\n",
    "train_data['Embarked_s'] = train_data['Embarked'].replace('Q',0).replace('C',0).replace('S',1)\n",
    "train_data['Embarked_c'] = train_data['Embarked'].replace('S',0).replace('Q',0).replace('C',1)\n",
    "train_data['Embarked_q'] = train_data['Embarked'].replace('C',0).replace('S',0).replace('Q',1)"
   ]
  },
  {
   "cell_type": "code",
   "execution_count": 7,
   "id": "323d2185",
   "metadata": {
    "execution": {
     "iopub.execute_input": "2022-01-06T19:54:44.900579Z",
     "iopub.status.busy": "2022-01-06T19:54:44.899775Z",
     "iopub.status.idle": "2022-01-06T19:54:44.903814Z",
     "shell.execute_reply": "2022-01-06T19:54:44.903286Z",
     "shell.execute_reply.started": "2022-01-06T19:46:35.436776Z"
    },
    "papermill": {
     "duration": 0.042824,
     "end_time": "2022-01-06T19:54:44.903998",
     "exception": false,
     "start_time": "2022-01-06T19:54:44.861174",
     "status": "completed"
    },
    "tags": []
   },
   "outputs": [
    {
     "data": {
      "text/html": [
       "<div>\n",
       "<style scoped>\n",
       "    .dataframe tbody tr th:only-of-type {\n",
       "        vertical-align: middle;\n",
       "    }\n",
       "\n",
       "    .dataframe tbody tr th {\n",
       "        vertical-align: top;\n",
       "    }\n",
       "\n",
       "    .dataframe thead th {\n",
       "        text-align: right;\n",
       "    }\n",
       "</style>\n",
       "<table border=\"1\" class=\"dataframe\">\n",
       "  <thead>\n",
       "    <tr style=\"text-align: right;\">\n",
       "      <th></th>\n",
       "      <th>PassengerId</th>\n",
       "      <th>Survived</th>\n",
       "      <th>Pclass</th>\n",
       "      <th>Name</th>\n",
       "      <th>Sex</th>\n",
       "      <th>Age</th>\n",
       "      <th>SibSp</th>\n",
       "      <th>Parch</th>\n",
       "      <th>Ticket</th>\n",
       "      <th>Fare</th>\n",
       "      <th>Cabin</th>\n",
       "      <th>Embarked</th>\n",
       "      <th>Embarked_s</th>\n",
       "      <th>Embarked_c</th>\n",
       "      <th>Embarked_q</th>\n",
       "    </tr>\n",
       "  </thead>\n",
       "  <tbody>\n",
       "    <tr>\n",
       "      <th>0</th>\n",
       "      <td>1</td>\n",
       "      <td>0</td>\n",
       "      <td>3</td>\n",
       "      <td>Braund, Mr. Owen Harris</td>\n",
       "      <td>1</td>\n",
       "      <td>22.0</td>\n",
       "      <td>1</td>\n",
       "      <td>0</td>\n",
       "      <td>A/5 21171</td>\n",
       "      <td>7.2500</td>\n",
       "      <td>NaN</td>\n",
       "      <td>S</td>\n",
       "      <td>1</td>\n",
       "      <td>0</td>\n",
       "      <td>0</td>\n",
       "    </tr>\n",
       "    <tr>\n",
       "      <th>1</th>\n",
       "      <td>2</td>\n",
       "      <td>1</td>\n",
       "      <td>1</td>\n",
       "      <td>Cumings, Mrs. John Bradley (Florence Briggs Th...</td>\n",
       "      <td>0</td>\n",
       "      <td>38.0</td>\n",
       "      <td>1</td>\n",
       "      <td>0</td>\n",
       "      <td>PC 17599</td>\n",
       "      <td>71.2833</td>\n",
       "      <td>C85</td>\n",
       "      <td>C</td>\n",
       "      <td>0</td>\n",
       "      <td>1</td>\n",
       "      <td>0</td>\n",
       "    </tr>\n",
       "    <tr>\n",
       "      <th>2</th>\n",
       "      <td>3</td>\n",
       "      <td>1</td>\n",
       "      <td>3</td>\n",
       "      <td>Heikkinen, Miss. Laina</td>\n",
       "      <td>0</td>\n",
       "      <td>26.0</td>\n",
       "      <td>0</td>\n",
       "      <td>0</td>\n",
       "      <td>STON/O2. 3101282</td>\n",
       "      <td>7.9250</td>\n",
       "      <td>NaN</td>\n",
       "      <td>S</td>\n",
       "      <td>1</td>\n",
       "      <td>0</td>\n",
       "      <td>0</td>\n",
       "    </tr>\n",
       "    <tr>\n",
       "      <th>3</th>\n",
       "      <td>4</td>\n",
       "      <td>1</td>\n",
       "      <td>1</td>\n",
       "      <td>Futrelle, Mrs. Jacques Heath (Lily May Peel)</td>\n",
       "      <td>0</td>\n",
       "      <td>35.0</td>\n",
       "      <td>1</td>\n",
       "      <td>0</td>\n",
       "      <td>113803</td>\n",
       "      <td>53.1000</td>\n",
       "      <td>C123</td>\n",
       "      <td>S</td>\n",
       "      <td>1</td>\n",
       "      <td>0</td>\n",
       "      <td>0</td>\n",
       "    </tr>\n",
       "    <tr>\n",
       "      <th>4</th>\n",
       "      <td>5</td>\n",
       "      <td>0</td>\n",
       "      <td>3</td>\n",
       "      <td>Allen, Mr. William Henry</td>\n",
       "      <td>1</td>\n",
       "      <td>35.0</td>\n",
       "      <td>0</td>\n",
       "      <td>0</td>\n",
       "      <td>373450</td>\n",
       "      <td>8.0500</td>\n",
       "      <td>NaN</td>\n",
       "      <td>S</td>\n",
       "      <td>1</td>\n",
       "      <td>0</td>\n",
       "      <td>0</td>\n",
       "    </tr>\n",
       "  </tbody>\n",
       "</table>\n",
       "</div>"
      ],
      "text/plain": [
       "   PassengerId  Survived  Pclass  \\\n",
       "0            1         0       3   \n",
       "1            2         1       1   \n",
       "2            3         1       3   \n",
       "3            4         1       1   \n",
       "4            5         0       3   \n",
       "\n",
       "                                                Name  Sex   Age  SibSp  Parch  \\\n",
       "0                            Braund, Mr. Owen Harris    1  22.0      1      0   \n",
       "1  Cumings, Mrs. John Bradley (Florence Briggs Th...    0  38.0      1      0   \n",
       "2                             Heikkinen, Miss. Laina    0  26.0      0      0   \n",
       "3       Futrelle, Mrs. Jacques Heath (Lily May Peel)    0  35.0      1      0   \n",
       "4                           Allen, Mr. William Henry    1  35.0      0      0   \n",
       "\n",
       "             Ticket     Fare Cabin Embarked  Embarked_s  Embarked_c  \\\n",
       "0         A/5 21171   7.2500   NaN        S           1           0   \n",
       "1          PC 17599  71.2833   C85        C           0           1   \n",
       "2  STON/O2. 3101282   7.9250   NaN        S           1           0   \n",
       "3            113803  53.1000  C123        S           1           0   \n",
       "4            373450   8.0500   NaN        S           1           0   \n",
       "\n",
       "   Embarked_q  \n",
       "0           0  \n",
       "1           0  \n",
       "2           0  \n",
       "3           0  \n",
       "4           0  "
      ]
     },
     "execution_count": 7,
     "metadata": {},
     "output_type": "execute_result"
    }
   ],
   "source": [
    "train_data.head()"
   ]
  },
  {
   "cell_type": "code",
   "execution_count": 8,
   "id": "e94af414",
   "metadata": {
    "execution": {
     "iopub.execute_input": "2022-01-06T19:54:44.958266Z",
     "iopub.status.busy": "2022-01-06T19:54:44.957110Z",
     "iopub.status.idle": "2022-01-06T19:54:44.967055Z",
     "shell.execute_reply": "2022-01-06T19:54:44.967640Z",
     "shell.execute_reply.started": "2022-01-06T19:53:16.105260Z"
    },
    "papermill": {
     "duration": 0.041466,
     "end_time": "2022-01-06T19:54:44.967838",
     "exception": false,
     "start_time": "2022-01-06T19:54:44.926372",
     "status": "completed"
    },
    "tags": []
   },
   "outputs": [],
   "source": [
    "test_data['Fare'] = test_data['Fare'].fillna(test_data.Age.mean())\n",
    "test_data['Age'] = test_data['Age'].fillna(test_data.Age.mean())\n",
    "#test_data['Age'] = test_data['Age'].fillna(0)\n",
    "test_data['Sex'] = test_data['Sex'].replace('female', 0)\n",
    "test_data['Sex'] = test_data['Sex'].replace('male', 1)\n",
    "test_data['Embarked_s'] = test_data['Embarked'].replace('Q',0).replace('C',0).replace('S',1)\n",
    "test_data['Embarked_c'] = test_data['Embarked'].replace('S',0).replace('Q',0).replace('C',1)\n",
    "test_data['Embarked_q'] = test_data['Embarked'].replace('C',0).replace('S',0).replace('Q',1)"
   ]
  },
  {
   "cell_type": "code",
   "execution_count": 9,
   "id": "77171441",
   "metadata": {
    "execution": {
     "iopub.execute_input": "2022-01-06T19:54:45.014056Z",
     "iopub.status.busy": "2022-01-06T19:54:45.013009Z",
     "iopub.status.idle": "2022-01-06T19:54:45.029542Z",
     "shell.execute_reply": "2022-01-06T19:54:45.028995Z",
     "shell.execute_reply.started": "2022-01-06T19:53:20.992578Z"
    },
    "papermill": {
     "duration": 0.040636,
     "end_time": "2022-01-06T19:54:45.029723",
     "exception": false,
     "start_time": "2022-01-06T19:54:44.989087",
     "status": "completed"
    },
    "tags": []
   },
   "outputs": [
    {
     "data": {
      "text/html": [
       "<div>\n",
       "<style scoped>\n",
       "    .dataframe tbody tr th:only-of-type {\n",
       "        vertical-align: middle;\n",
       "    }\n",
       "\n",
       "    .dataframe tbody tr th {\n",
       "        vertical-align: top;\n",
       "    }\n",
       "\n",
       "    .dataframe thead th {\n",
       "        text-align: right;\n",
       "    }\n",
       "</style>\n",
       "<table border=\"1\" class=\"dataframe\">\n",
       "  <thead>\n",
       "    <tr style=\"text-align: right;\">\n",
       "      <th></th>\n",
       "      <th>PassengerId</th>\n",
       "      <th>Pclass</th>\n",
       "      <th>Name</th>\n",
       "      <th>Sex</th>\n",
       "      <th>Age</th>\n",
       "      <th>SibSp</th>\n",
       "      <th>Parch</th>\n",
       "      <th>Ticket</th>\n",
       "      <th>Fare</th>\n",
       "      <th>Cabin</th>\n",
       "      <th>Embarked</th>\n",
       "      <th>Embarked_s</th>\n",
       "      <th>Embarked_c</th>\n",
       "      <th>Embarked_q</th>\n",
       "    </tr>\n",
       "  </thead>\n",
       "  <tbody>\n",
       "    <tr>\n",
       "      <th>0</th>\n",
       "      <td>892</td>\n",
       "      <td>3</td>\n",
       "      <td>Kelly, Mr. James</td>\n",
       "      <td>1</td>\n",
       "      <td>34.5</td>\n",
       "      <td>0</td>\n",
       "      <td>0</td>\n",
       "      <td>330911</td>\n",
       "      <td>7.8292</td>\n",
       "      <td>NaN</td>\n",
       "      <td>Q</td>\n",
       "      <td>0</td>\n",
       "      <td>0</td>\n",
       "      <td>1</td>\n",
       "    </tr>\n",
       "    <tr>\n",
       "      <th>1</th>\n",
       "      <td>893</td>\n",
       "      <td>3</td>\n",
       "      <td>Wilkes, Mrs. James (Ellen Needs)</td>\n",
       "      <td>0</td>\n",
       "      <td>47.0</td>\n",
       "      <td>1</td>\n",
       "      <td>0</td>\n",
       "      <td>363272</td>\n",
       "      <td>7.0000</td>\n",
       "      <td>NaN</td>\n",
       "      <td>S</td>\n",
       "      <td>1</td>\n",
       "      <td>0</td>\n",
       "      <td>0</td>\n",
       "    </tr>\n",
       "    <tr>\n",
       "      <th>2</th>\n",
       "      <td>894</td>\n",
       "      <td>2</td>\n",
       "      <td>Myles, Mr. Thomas Francis</td>\n",
       "      <td>1</td>\n",
       "      <td>62.0</td>\n",
       "      <td>0</td>\n",
       "      <td>0</td>\n",
       "      <td>240276</td>\n",
       "      <td>9.6875</td>\n",
       "      <td>NaN</td>\n",
       "      <td>Q</td>\n",
       "      <td>0</td>\n",
       "      <td>0</td>\n",
       "      <td>1</td>\n",
       "    </tr>\n",
       "    <tr>\n",
       "      <th>3</th>\n",
       "      <td>895</td>\n",
       "      <td>3</td>\n",
       "      <td>Wirz, Mr. Albert</td>\n",
       "      <td>1</td>\n",
       "      <td>27.0</td>\n",
       "      <td>0</td>\n",
       "      <td>0</td>\n",
       "      <td>315154</td>\n",
       "      <td>8.6625</td>\n",
       "      <td>NaN</td>\n",
       "      <td>S</td>\n",
       "      <td>1</td>\n",
       "      <td>0</td>\n",
       "      <td>0</td>\n",
       "    </tr>\n",
       "    <tr>\n",
       "      <th>4</th>\n",
       "      <td>896</td>\n",
       "      <td>3</td>\n",
       "      <td>Hirvonen, Mrs. Alexander (Helga E Lindqvist)</td>\n",
       "      <td>0</td>\n",
       "      <td>22.0</td>\n",
       "      <td>1</td>\n",
       "      <td>1</td>\n",
       "      <td>3101298</td>\n",
       "      <td>12.2875</td>\n",
       "      <td>NaN</td>\n",
       "      <td>S</td>\n",
       "      <td>1</td>\n",
       "      <td>0</td>\n",
       "      <td>0</td>\n",
       "    </tr>\n",
       "  </tbody>\n",
       "</table>\n",
       "</div>"
      ],
      "text/plain": [
       "   PassengerId  Pclass                                          Name  Sex  \\\n",
       "0          892       3                              Kelly, Mr. James    1   \n",
       "1          893       3              Wilkes, Mrs. James (Ellen Needs)    0   \n",
       "2          894       2                     Myles, Mr. Thomas Francis    1   \n",
       "3          895       3                              Wirz, Mr. Albert    1   \n",
       "4          896       3  Hirvonen, Mrs. Alexander (Helga E Lindqvist)    0   \n",
       "\n",
       "    Age  SibSp  Parch   Ticket     Fare Cabin Embarked  Embarked_s  \\\n",
       "0  34.5      0      0   330911   7.8292   NaN        Q           0   \n",
       "1  47.0      1      0   363272   7.0000   NaN        S           1   \n",
       "2  62.0      0      0   240276   9.6875   NaN        Q           0   \n",
       "3  27.0      0      0   315154   8.6625   NaN        S           1   \n",
       "4  22.0      1      1  3101298  12.2875   NaN        S           1   \n",
       "\n",
       "   Embarked_c  Embarked_q  \n",
       "0           0           1  \n",
       "1           0           0  \n",
       "2           0           1  \n",
       "3           0           0  \n",
       "4           0           0  "
      ]
     },
     "execution_count": 9,
     "metadata": {},
     "output_type": "execute_result"
    }
   ],
   "source": [
    "test_data.head()"
   ]
  },
  {
   "cell_type": "code",
   "execution_count": 10,
   "id": "201e5876",
   "metadata": {
    "execution": {
     "iopub.execute_input": "2022-01-06T19:54:45.074315Z",
     "iopub.status.busy": "2022-01-06T19:54:45.073581Z",
     "iopub.status.idle": "2022-01-06T19:54:45.082512Z",
     "shell.execute_reply": "2022-01-06T19:54:45.083084Z",
     "shell.execute_reply.started": "2022-01-06T19:47:00.753155Z"
    },
    "papermill": {
     "duration": 0.032841,
     "end_time": "2022-01-06T19:54:45.083261",
     "exception": false,
     "start_time": "2022-01-06T19:54:45.050420",
     "status": "completed"
    },
    "tags": []
   },
   "outputs": [
    {
     "data": {
      "text/plain": [
       "PassengerId      0\n",
       "Survived         0\n",
       "Pclass           0\n",
       "Name             0\n",
       "Sex              0\n",
       "Age              0\n",
       "SibSp            0\n",
       "Parch            0\n",
       "Ticket           0\n",
       "Fare             0\n",
       "Cabin          687\n",
       "Embarked         0\n",
       "Embarked_s       0\n",
       "Embarked_c       0\n",
       "Embarked_q       0\n",
       "dtype: int64"
      ]
     },
     "execution_count": 10,
     "metadata": {},
     "output_type": "execute_result"
    }
   ],
   "source": [
    "train_data.isnull().sum()"
   ]
  },
  {
   "cell_type": "code",
   "execution_count": 11,
   "id": "2627b195",
   "metadata": {
    "execution": {
     "iopub.execute_input": "2022-01-06T19:54:45.129321Z",
     "iopub.status.busy": "2022-01-06T19:54:45.128540Z",
     "iopub.status.idle": "2022-01-06T19:54:45.136960Z",
     "shell.execute_reply": "2022-01-06T19:54:45.137616Z",
     "shell.execute_reply.started": "2022-01-06T19:53:28.662498Z"
    },
    "papermill": {
     "duration": 0.03324,
     "end_time": "2022-01-06T19:54:45.137815",
     "exception": false,
     "start_time": "2022-01-06T19:54:45.104575",
     "status": "completed"
    },
    "tags": []
   },
   "outputs": [
    {
     "data": {
      "text/plain": [
       "PassengerId      0\n",
       "Pclass           0\n",
       "Name             0\n",
       "Sex              0\n",
       "Age              0\n",
       "SibSp            0\n",
       "Parch            0\n",
       "Ticket           0\n",
       "Fare             0\n",
       "Cabin          327\n",
       "Embarked         0\n",
       "Embarked_s       0\n",
       "Embarked_c       0\n",
       "Embarked_q       0\n",
       "dtype: int64"
      ]
     },
     "execution_count": 11,
     "metadata": {},
     "output_type": "execute_result"
    }
   ],
   "source": [
    "test_data.isnull().sum()"
   ]
  },
  {
   "cell_type": "code",
   "execution_count": 12,
   "id": "771ce992",
   "metadata": {
    "execution": {
     "iopub.execute_input": "2022-01-06T19:54:45.188581Z",
     "iopub.status.busy": "2022-01-06T19:54:45.187887Z",
     "iopub.status.idle": "2022-01-06T19:54:45.201607Z",
     "shell.execute_reply": "2022-01-06T19:54:45.202193Z",
     "shell.execute_reply.started": "2022-01-06T19:47:45.924048Z"
    },
    "papermill": {
     "duration": 0.043266,
     "end_time": "2022-01-06T19:54:45.202390",
     "exception": false,
     "start_time": "2022-01-06T19:54:45.159124",
     "status": "completed"
    },
    "tags": []
   },
   "outputs": [],
   "source": [
    "y = train_data.Survived\n",
    "\n",
    "features = [\"Pclass\", \"Sex\", \"Age\", \"SibSp\", \"Parch\", \"Fare\", \"Embarked_s\", \"Embarked_q\", \"Embarked_c\"]\n",
    "X = train_data[features]\n",
    "\n",
    "train_X, val_X, train_y, val_y = train_test_split(X, y, random_state=1)\n",
    "\n",
    "#model = RandomForestClassifier(n_estimators=100, random_state=1)\n",
    "model = LogisticRegression(solver='liblinear', random_state=1)\n",
    "model.fit(train_X, train_y)\n",
    "val_predictions = model.predict(val_X)\n",
    "\n",
    "#mean_acc = model.score(train_X, train_y)"
   ]
  },
  {
   "cell_type": "code",
   "execution_count": 13,
   "id": "7c7bd3d0",
   "metadata": {
    "execution": {
     "iopub.execute_input": "2022-01-06T19:54:45.253106Z",
     "iopub.status.busy": "2022-01-06T19:54:45.252365Z",
     "iopub.status.idle": "2022-01-06T19:54:45.256023Z",
     "shell.execute_reply": "2022-01-06T19:54:45.255385Z",
     "shell.execute_reply.started": "2022-01-06T19:47:50.010137Z"
    },
    "papermill": {
     "duration": 0.031771,
     "end_time": "2022-01-06T19:54:45.256179",
     "exception": false,
     "start_time": "2022-01-06T19:54:45.224408",
     "status": "completed"
    },
    "tags": []
   },
   "outputs": [
    {
     "data": {
      "text/plain": [
       "0.8340807174887892"
      ]
     },
     "execution_count": 13,
     "metadata": {},
     "output_type": "execute_result"
    }
   ],
   "source": [
    "(val_predictions == val_y).sum().astype(float)/val_y.shape[0]"
   ]
  },
  {
   "cell_type": "code",
   "execution_count": 14,
   "id": "3ca7c373",
   "metadata": {
    "execution": {
     "iopub.execute_input": "2022-01-06T19:54:45.303509Z",
     "iopub.status.busy": "2022-01-06T19:54:45.302806Z",
     "iopub.status.idle": "2022-01-06T19:54:45.311506Z",
     "shell.execute_reply": "2022-01-06T19:54:45.312130Z",
     "shell.execute_reply.started": "2022-01-06T19:47:53.597361Z"
    },
    "papermill": {
     "duration": 0.033766,
     "end_time": "2022-01-06T19:54:45.312316",
     "exception": false,
     "start_time": "2022-01-06T19:54:45.278550",
     "status": "completed"
    },
    "tags": []
   },
   "outputs": [
    {
     "data": {
      "text/plain": [
       "array([[120,  18],\n",
       "       [ 19,  66]])"
      ]
     },
     "execution_count": 14,
     "metadata": {},
     "output_type": "execute_result"
    }
   ],
   "source": [
    "confusion_matrix(val_y, val_predictions)"
   ]
  },
  {
   "cell_type": "code",
   "execution_count": 15,
   "id": "fb5853ca",
   "metadata": {
    "execution": {
     "iopub.execute_input": "2022-01-06T19:54:45.361356Z",
     "iopub.status.busy": "2022-01-06T19:54:45.360624Z",
     "iopub.status.idle": "2022-01-06T19:54:45.369327Z",
     "shell.execute_reply": "2022-01-06T19:54:45.369856Z",
     "shell.execute_reply.started": "2022-01-06T19:47:57.450444Z"
    },
    "papermill": {
     "duration": 0.03495,
     "end_time": "2022-01-06T19:54:45.370069",
     "exception": false,
     "start_time": "2022-01-06T19:54:45.335119",
     "status": "completed"
    },
    "tags": []
   },
   "outputs": [
    {
     "name": "stdout",
     "output_type": "stream",
     "text": [
      "              precision    recall  f1-score   support\n",
      "\n",
      "           0       0.86      0.87      0.87       138\n",
      "           1       0.79      0.78      0.78        85\n",
      "\n",
      "    accuracy                           0.83       223\n",
      "   macro avg       0.82      0.82      0.82       223\n",
      "weighted avg       0.83      0.83      0.83       223\n",
      "\n"
     ]
    }
   ],
   "source": [
    "print(classification_report(val_y, val_predictions))"
   ]
  },
  {
   "cell_type": "code",
   "execution_count": 16,
   "id": "98c77ca8",
   "metadata": {
    "execution": {
     "iopub.execute_input": "2022-01-06T19:54:45.423072Z",
     "iopub.status.busy": "2022-01-06T19:54:45.422358Z",
     "iopub.status.idle": "2022-01-06T19:54:45.433367Z",
     "shell.execute_reply": "2022-01-06T19:54:45.432716Z",
     "shell.execute_reply.started": "2022-01-06T19:53:38.936191Z"
    },
    "papermill": {
     "duration": 0.04038,
     "end_time": "2022-01-06T19:54:45.433517",
     "exception": false,
     "start_time": "2022-01-06T19:54:45.393137",
     "status": "completed"
    },
    "tags": []
   },
   "outputs": [
    {
     "data": {
      "text/plain": [
       "LogisticRegression(random_state=1, solver='liblinear')"
      ]
     },
     "execution_count": 16,
     "metadata": {},
     "output_type": "execute_result"
    }
   ],
   "source": [
    "#trénování na všech trénovacích datech\n",
    "#model_on_full_data = RandomForestClassifier(n_estimators=100, random_state=1)\n",
    "model_on_full_data = LogisticRegression(solver='liblinear', random_state = 1)\n",
    "\n",
    "model_on_full_data.fit(X, y)"
   ]
  },
  {
   "cell_type": "code",
   "execution_count": 17,
   "id": "02b36009",
   "metadata": {
    "execution": {
     "iopub.execute_input": "2022-01-06T19:54:45.485418Z",
     "iopub.status.busy": "2022-01-06T19:54:45.484603Z",
     "iopub.status.idle": "2022-01-06T19:54:45.490091Z",
     "shell.execute_reply": "2022-01-06T19:54:45.490725Z",
     "shell.execute_reply.started": "2022-01-06T19:53:56.151645Z"
    },
    "papermill": {
     "duration": 0.034562,
     "end_time": "2022-01-06T19:54:45.490905",
     "exception": false,
     "start_time": "2022-01-06T19:54:45.456343",
     "status": "completed"
    },
    "tags": []
   },
   "outputs": [],
   "source": [
    "#predikce na předpřipravených testovacích datech\n",
    "test_X = test_data[features]\n",
    " \n",
    "test_preds = model_on_full_data.predict(test_X)"
   ]
  },
  {
   "cell_type": "code",
   "execution_count": 18,
   "id": "b8e6abb9",
   "metadata": {
    "execution": {
     "iopub.execute_input": "2022-01-06T19:54:45.541226Z",
     "iopub.status.busy": "2022-01-06T19:54:45.540500Z",
     "iopub.status.idle": "2022-01-06T19:54:45.547453Z",
     "shell.execute_reply": "2022-01-06T19:54:45.546863Z",
     "shell.execute_reply.started": "2022-01-06T19:53:59.435665Z"
    },
    "papermill": {
     "duration": 0.034034,
     "end_time": "2022-01-06T19:54:45.547619",
     "exception": false,
     "start_time": "2022-01-06T19:54:45.513585",
     "status": "completed"
    },
    "tags": []
   },
   "outputs": [
    {
     "name": "stdout",
     "output_type": "stream",
     "text": [
      "[0 0 0 0 1 0 1 0 1 0 0 0 1 0 1 1 0 0 1 1 0 0 1 1 1 0 1 0 0 0 0 0 0 0 0 0 1\n",
      " 1 0 0 0 0 0 1 1 0 0 0 1 1 0 0 1 1 0 0 0 0 0 1 0 0 0 1 1 1 1 0 1 1 1 0 1 1\n",
      " 1 1 0 1 0 1 0 0 0 0 0 0 1 1 1 0 1 0 1 0 1 0 1 0 1 0 1 0 0 0 1 0 0 0 0 0 0\n",
      " 1 1 1 1 0 0 1 1 1 1 0 1 0 0 1 0 1 0 0 0 0 1 0 0 0 0 0 1 0 0 1 0 0 0 0 0 0\n",
      " 0 0 1 0 0 1 0 0 1 1 0 1 1 0 1 0 0 1 0 0 1 1 0 0 0 0 0 1 1 0 1 1 0 0 1 0 1\n",
      " 0 1 0 0 0 0 0 0 0 0 0 1 1 0 1 1 0 1 1 0 1 1 0 1 0 0 0 0 1 0 0 1 0 1 0 1 0\n",
      " 1 0 1 1 0 1 0 0 0 1 0 0 0 0 0 0 1 1 1 1 0 0 0 0 1 0 1 1 1 0 1 0 0 0 0 0 1\n",
      " 0 0 0 1 1 0 0 0 0 1 0 0 0 1 1 0 1 0 0 0 0 1 0 1 1 1 0 0 0 0 0 0 1 0 0 0 0\n",
      " 1 0 0 0 0 0 0 0 1 1 0 0 0 0 0 0 0 1 1 1 0 0 0 0 0 0 0 0 1 0 1 0 0 0 1 0 0\n",
      " 1 0 0 0 0 0 0 0 0 0 1 0 1 0 1 0 1 1 0 0 0 1 0 1 0 0 1 0 1 1 0 1 0 0 1 1 0\n",
      " 0 1 0 0 1 1 1 0 0 0 0 0 1 1 0 1 0 0 0 0 1 1 0 0 0 1 0 1 0 0 1 0 1 1 0 0 0\n",
      " 0 1 1 1 1 1 0 1 0 0 0]\n"
     ]
    }
   ],
   "source": [
    "print(test_preds)"
   ]
  },
  {
   "cell_type": "code",
   "execution_count": 19,
   "id": "5c17ad13",
   "metadata": {
    "execution": {
     "iopub.execute_input": "2022-01-06T19:54:45.599619Z",
     "iopub.status.busy": "2022-01-06T19:54:45.598879Z",
     "iopub.status.idle": "2022-01-06T19:54:45.607792Z",
     "shell.execute_reply": "2022-01-06T19:54:45.608388Z",
     "shell.execute_reply.started": "2022-01-06T19:54:03.814253Z"
    },
    "papermill": {
     "duration": 0.037576,
     "end_time": "2022-01-06T19:54:45.608581",
     "exception": false,
     "start_time": "2022-01-06T19:54:45.571005",
     "status": "completed"
    },
    "tags": []
   },
   "outputs": [],
   "source": [
    "output = pd.DataFrame({'PassengerId': test_data['PassengerId'],'Survived': test_preds})\n",
    "output.to_csv('submission.csv', index=False)"
   ]
  },
  {
   "cell_type": "code",
   "execution_count": 20,
   "id": "f4496626",
   "metadata": {
    "execution": {
     "iopub.execute_input": "2022-01-06T19:54:45.660581Z",
     "iopub.status.busy": "2022-01-06T19:54:45.659886Z",
     "iopub.status.idle": "2022-01-06T19:54:45.668278Z",
     "shell.execute_reply": "2022-01-06T19:54:45.669398Z",
     "shell.execute_reply.started": "2022-01-06T19:54:13.052645Z"
    },
    "papermill": {
     "duration": 0.036568,
     "end_time": "2022-01-06T19:54:45.669669",
     "exception": false,
     "start_time": "2022-01-06T19:54:45.633101",
     "status": "completed"
    },
    "tags": []
   },
   "outputs": [
    {
     "name": "stdout",
     "output_type": "stream",
     "text": [
      "     PassengerId  Survived\n",
      "0            892         0\n",
      "1            893         0\n",
      "2            894         0\n",
      "3            895         0\n",
      "4            896         1\n",
      "..           ...       ...\n",
      "413         1305         0\n",
      "414         1306         1\n",
      "415         1307         0\n",
      "416         1308         0\n",
      "417         1309         0\n",
      "\n",
      "[418 rows x 2 columns]\n"
     ]
    }
   ],
   "source": [
    "print(output)"
   ]
  }
 ],
 "metadata": {
  "kernelspec": {
   "display_name": "Python 3",
   "language": "python",
   "name": "python3"
  },
  "language_info": {
   "codemirror_mode": {
    "name": "ipython",
    "version": 3
   },
   "file_extension": ".py",
   "mimetype": "text/x-python",
   "name": "python",
   "nbconvert_exporter": "python",
   "pygments_lexer": "ipython3",
   "version": "3.7.10"
  },
  "papermill": {
   "default_parameters": {},
   "duration": 14.578797,
   "end_time": "2022-01-06T19:54:46.405589",
   "environment_variables": {},
   "exception": null,
   "input_path": "__notebook__.ipynb",
   "output_path": "__notebook__.ipynb",
   "parameters": {},
   "start_time": "2022-01-06T19:54:31.826792",
   "version": "2.3.3"
  }
 },
 "nbformat": 4,
 "nbformat_minor": 5
}

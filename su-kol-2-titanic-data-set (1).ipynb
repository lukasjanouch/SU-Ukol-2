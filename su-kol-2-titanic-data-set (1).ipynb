{
 "cells": [
  {
   "cell_type": "code",
   "execution_count": 1,
   "id": "8ae0283b",
   "metadata": {
    "_cell_guid": "b1076dfc-b9ad-4769-8c92-a6c4dae69d19",
    "_uuid": "8f2839f25d086af736a60e9eeb907d3b93b6e0e5",
    "execution": {
     "iopub.execute_input": "2021-12-22T16:25:58.675521Z",
     "iopub.status.busy": "2021-12-22T16:25:58.673386Z",
     "iopub.status.idle": "2021-12-22T16:25:59.859754Z",
     "shell.execute_reply": "2021-12-22T16:25:59.858932Z",
     "shell.execute_reply.started": "2021-12-22T16:25:20.150872Z"
    },
    "papermill": {
     "duration": 1.209767,
     "end_time": "2021-12-22T16:25:59.859944",
     "exception": false,
     "start_time": "2021-12-22T16:25:58.650177",
     "status": "completed"
    },
    "tags": []
   },
   "outputs": [
    {
     "name": "stdout",
     "output_type": "stream",
     "text": [
      "/kaggle/input/titanic/train.csv\n",
      "/kaggle/input/titanic/test.csv\n",
      "/kaggle/input/titanic/gender_submission.csv\n"
     ]
    }
   ],
   "source": [
    "# This Python 3 environment comes with many helpful analytics libraries installed\n",
    "# It is defined by the kaggle/python Docker image: https://github.com/kaggle/docker-python\n",
    "# For example, here's several helpful packages to load\n",
    "\n",
    "import numpy as np # linear algebra\n",
    "import pandas as pd # data processing, CSV file I/O (e.g. pd.read_csv)\n",
    "from sklearn.ensemble import RandomForestClassifier\n",
    "from sklearn.linear_model import LogisticRegression\n",
    "from sklearn.metrics import accuracy_score \n",
    "from sklearn.metrics import mean_absolute_error\n",
    "from sklearn.model_selection import train_test_split\n",
    "\n",
    "# Input data files are available in the read-only \"../input/\" directory\n",
    "# For example, running this (by clicking run or pressing Shift+Enter) will list all files under the input directory\n",
    "\n",
    "import os\n",
    "for dirname, _, filenames in os.walk('/kaggle/input'):\n",
    "    for filename in filenames:\n",
    "        print(os.path.join(dirname, filename))\n",
    "\n",
    "# You can write up to 20GB to the current directory (/kaggle/working/) that gets preserved as output when you create a version using \"Save & Run All\" \n",
    "# You can also write temporary files to /kaggle/temp/, but they won't be saved outside of the current session"
   ]
  },
  {
   "cell_type": "code",
   "execution_count": 2,
   "id": "9fa9b2c1",
   "metadata": {
    "execution": {
     "iopub.execute_input": "2021-12-22T16:25:59.897483Z",
     "iopub.status.busy": "2021-12-22T16:25:59.896421Z",
     "iopub.status.idle": "2021-12-22T16:26:00.058840Z",
     "shell.execute_reply": "2021-12-22T16:26:00.059376Z",
     "shell.execute_reply.started": "2021-12-22T16:25:20.164763Z"
    },
    "papermill": {
     "duration": 0.182536,
     "end_time": "2021-12-22T16:26:00.059594",
     "exception": false,
     "start_time": "2021-12-22T16:25:59.877058",
     "status": "completed"
    },
    "tags": []
   },
   "outputs": [
    {
     "data": {
      "text/html": [
       "<div>\n",
       "<style scoped>\n",
       "    .dataframe tbody tr th:only-of-type {\n",
       "        vertical-align: middle;\n",
       "    }\n",
       "\n",
       "    .dataframe tbody tr th {\n",
       "        vertical-align: top;\n",
       "    }\n",
       "\n",
       "    .dataframe thead th {\n",
       "        text-align: right;\n",
       "    }\n",
       "</style>\n",
       "<table border=\"1\" class=\"dataframe\">\n",
       "  <thead>\n",
       "    <tr style=\"text-align: right;\">\n",
       "      <th></th>\n",
       "      <th>PassengerId</th>\n",
       "      <th>Survived</th>\n",
       "      <th>Pclass</th>\n",
       "      <th>Name</th>\n",
       "      <th>Sex</th>\n",
       "      <th>Age</th>\n",
       "      <th>SibSp</th>\n",
       "      <th>Parch</th>\n",
       "      <th>Ticket</th>\n",
       "      <th>Fare</th>\n",
       "      <th>Cabin</th>\n",
       "      <th>Embarked</th>\n",
       "    </tr>\n",
       "  </thead>\n",
       "  <tbody>\n",
       "    <tr>\n",
       "      <th>0</th>\n",
       "      <td>1</td>\n",
       "      <td>0</td>\n",
       "      <td>3</td>\n",
       "      <td>Braund, Mr. Owen Harris</td>\n",
       "      <td>male</td>\n",
       "      <td>22.0</td>\n",
       "      <td>1</td>\n",
       "      <td>0</td>\n",
       "      <td>A/5 21171</td>\n",
       "      <td>7.2500</td>\n",
       "      <td>NaN</td>\n",
       "      <td>S</td>\n",
       "    </tr>\n",
       "    <tr>\n",
       "      <th>1</th>\n",
       "      <td>2</td>\n",
       "      <td>1</td>\n",
       "      <td>1</td>\n",
       "      <td>Cumings, Mrs. John Bradley (Florence Briggs Th...</td>\n",
       "      <td>female</td>\n",
       "      <td>38.0</td>\n",
       "      <td>1</td>\n",
       "      <td>0</td>\n",
       "      <td>PC 17599</td>\n",
       "      <td>71.2833</td>\n",
       "      <td>C85</td>\n",
       "      <td>C</td>\n",
       "    </tr>\n",
       "    <tr>\n",
       "      <th>2</th>\n",
       "      <td>3</td>\n",
       "      <td>1</td>\n",
       "      <td>3</td>\n",
       "      <td>Heikkinen, Miss. Laina</td>\n",
       "      <td>female</td>\n",
       "      <td>26.0</td>\n",
       "      <td>0</td>\n",
       "      <td>0</td>\n",
       "      <td>STON/O2. 3101282</td>\n",
       "      <td>7.9250</td>\n",
       "      <td>NaN</td>\n",
       "      <td>S</td>\n",
       "    </tr>\n",
       "    <tr>\n",
       "      <th>3</th>\n",
       "      <td>4</td>\n",
       "      <td>1</td>\n",
       "      <td>1</td>\n",
       "      <td>Futrelle, Mrs. Jacques Heath (Lily May Peel)</td>\n",
       "      <td>female</td>\n",
       "      <td>35.0</td>\n",
       "      <td>1</td>\n",
       "      <td>0</td>\n",
       "      <td>113803</td>\n",
       "      <td>53.1000</td>\n",
       "      <td>C123</td>\n",
       "      <td>S</td>\n",
       "    </tr>\n",
       "    <tr>\n",
       "      <th>4</th>\n",
       "      <td>5</td>\n",
       "      <td>0</td>\n",
       "      <td>3</td>\n",
       "      <td>Allen, Mr. William Henry</td>\n",
       "      <td>male</td>\n",
       "      <td>35.0</td>\n",
       "      <td>0</td>\n",
       "      <td>0</td>\n",
       "      <td>373450</td>\n",
       "      <td>8.0500</td>\n",
       "      <td>NaN</td>\n",
       "      <td>S</td>\n",
       "    </tr>\n",
       "  </tbody>\n",
       "</table>\n",
       "</div>"
      ],
      "text/plain": [
       "   PassengerId  Survived  Pclass  \\\n",
       "0            1         0       3   \n",
       "1            2         1       1   \n",
       "2            3         1       3   \n",
       "3            4         1       1   \n",
       "4            5         0       3   \n",
       "\n",
       "                                                Name     Sex   Age  SibSp  \\\n",
       "0                            Braund, Mr. Owen Harris    male  22.0      1   \n",
       "1  Cumings, Mrs. John Bradley (Florence Briggs Th...  female  38.0      1   \n",
       "2                             Heikkinen, Miss. Laina  female  26.0      0   \n",
       "3       Futrelle, Mrs. Jacques Heath (Lily May Peel)  female  35.0      1   \n",
       "4                           Allen, Mr. William Henry    male  35.0      0   \n",
       "\n",
       "   Parch            Ticket     Fare Cabin Embarked  \n",
       "0      0         A/5 21171   7.2500   NaN        S  \n",
       "1      0          PC 17599  71.2833   C85        C  \n",
       "2      0  STON/O2. 3101282   7.9250   NaN        S  \n",
       "3      0            113803  53.1000  C123        S  \n",
       "4      0            373450   8.0500   NaN        S  "
      ]
     },
     "execution_count": 2,
     "metadata": {},
     "output_type": "execute_result"
    }
   ],
   "source": [
    "train_data = pd.read_csv(\"/kaggle/input/titanic/train.csv\")\n",
    "train_data.head()"
   ]
  },
  {
   "cell_type": "code",
   "execution_count": 3,
   "id": "26d71732",
   "metadata": {
    "execution": {
     "iopub.execute_input": "2021-12-22T16:26:00.099718Z",
     "iopub.status.busy": "2021-12-22T16:26:00.098982Z",
     "iopub.status.idle": "2021-12-22T16:26:00.126625Z",
     "shell.execute_reply": "2021-12-22T16:26:00.126005Z",
     "shell.execute_reply.started": "2021-12-22T16:25:20.194128Z"
    },
    "papermill": {
     "duration": 0.047958,
     "end_time": "2021-12-22T16:26:00.126789",
     "exception": false,
     "start_time": "2021-12-22T16:26:00.078831",
     "status": "completed"
    },
    "tags": []
   },
   "outputs": [
    {
     "data": {
      "text/html": [
       "<div>\n",
       "<style scoped>\n",
       "    .dataframe tbody tr th:only-of-type {\n",
       "        vertical-align: middle;\n",
       "    }\n",
       "\n",
       "    .dataframe tbody tr th {\n",
       "        vertical-align: top;\n",
       "    }\n",
       "\n",
       "    .dataframe thead th {\n",
       "        text-align: right;\n",
       "    }\n",
       "</style>\n",
       "<table border=\"1\" class=\"dataframe\">\n",
       "  <thead>\n",
       "    <tr style=\"text-align: right;\">\n",
       "      <th></th>\n",
       "      <th>PassengerId</th>\n",
       "      <th>Pclass</th>\n",
       "      <th>Name</th>\n",
       "      <th>Sex</th>\n",
       "      <th>Age</th>\n",
       "      <th>SibSp</th>\n",
       "      <th>Parch</th>\n",
       "      <th>Ticket</th>\n",
       "      <th>Fare</th>\n",
       "      <th>Cabin</th>\n",
       "      <th>Embarked</th>\n",
       "    </tr>\n",
       "  </thead>\n",
       "  <tbody>\n",
       "    <tr>\n",
       "      <th>0</th>\n",
       "      <td>892</td>\n",
       "      <td>3</td>\n",
       "      <td>Kelly, Mr. James</td>\n",
       "      <td>male</td>\n",
       "      <td>34.5</td>\n",
       "      <td>0</td>\n",
       "      <td>0</td>\n",
       "      <td>330911</td>\n",
       "      <td>7.8292</td>\n",
       "      <td>NaN</td>\n",
       "      <td>Q</td>\n",
       "    </tr>\n",
       "    <tr>\n",
       "      <th>1</th>\n",
       "      <td>893</td>\n",
       "      <td>3</td>\n",
       "      <td>Wilkes, Mrs. James (Ellen Needs)</td>\n",
       "      <td>female</td>\n",
       "      <td>47.0</td>\n",
       "      <td>1</td>\n",
       "      <td>0</td>\n",
       "      <td>363272</td>\n",
       "      <td>7.0000</td>\n",
       "      <td>NaN</td>\n",
       "      <td>S</td>\n",
       "    </tr>\n",
       "    <tr>\n",
       "      <th>2</th>\n",
       "      <td>894</td>\n",
       "      <td>2</td>\n",
       "      <td>Myles, Mr. Thomas Francis</td>\n",
       "      <td>male</td>\n",
       "      <td>62.0</td>\n",
       "      <td>0</td>\n",
       "      <td>0</td>\n",
       "      <td>240276</td>\n",
       "      <td>9.6875</td>\n",
       "      <td>NaN</td>\n",
       "      <td>Q</td>\n",
       "    </tr>\n",
       "    <tr>\n",
       "      <th>3</th>\n",
       "      <td>895</td>\n",
       "      <td>3</td>\n",
       "      <td>Wirz, Mr. Albert</td>\n",
       "      <td>male</td>\n",
       "      <td>27.0</td>\n",
       "      <td>0</td>\n",
       "      <td>0</td>\n",
       "      <td>315154</td>\n",
       "      <td>8.6625</td>\n",
       "      <td>NaN</td>\n",
       "      <td>S</td>\n",
       "    </tr>\n",
       "    <tr>\n",
       "      <th>4</th>\n",
       "      <td>896</td>\n",
       "      <td>3</td>\n",
       "      <td>Hirvonen, Mrs. Alexander (Helga E Lindqvist)</td>\n",
       "      <td>female</td>\n",
       "      <td>22.0</td>\n",
       "      <td>1</td>\n",
       "      <td>1</td>\n",
       "      <td>3101298</td>\n",
       "      <td>12.2875</td>\n",
       "      <td>NaN</td>\n",
       "      <td>S</td>\n",
       "    </tr>\n",
       "  </tbody>\n",
       "</table>\n",
       "</div>"
      ],
      "text/plain": [
       "   PassengerId  Pclass                                          Name     Sex  \\\n",
       "0          892       3                              Kelly, Mr. James    male   \n",
       "1          893       3              Wilkes, Mrs. James (Ellen Needs)  female   \n",
       "2          894       2                     Myles, Mr. Thomas Francis    male   \n",
       "3          895       3                              Wirz, Mr. Albert    male   \n",
       "4          896       3  Hirvonen, Mrs. Alexander (Helga E Lindqvist)  female   \n",
       "\n",
       "    Age  SibSp  Parch   Ticket     Fare Cabin Embarked  \n",
       "0  34.5      0      0   330911   7.8292   NaN        Q  \n",
       "1  47.0      1      0   363272   7.0000   NaN        S  \n",
       "2  62.0      0      0   240276   9.6875   NaN        Q  \n",
       "3  27.0      0      0   315154   8.6625   NaN        S  \n",
       "4  22.0      1      1  3101298  12.2875   NaN        S  "
      ]
     },
     "execution_count": 3,
     "metadata": {},
     "output_type": "execute_result"
    }
   ],
   "source": [
    "test_data = pd.read_csv(\"/kaggle/input/titanic/test.csv\")\n",
    "test_data.head()"
   ]
  },
  {
   "cell_type": "code",
   "execution_count": 4,
   "id": "9430646d",
   "metadata": {
    "execution": {
     "iopub.execute_input": "2021-12-22T16:26:00.171925Z",
     "iopub.status.busy": "2021-12-22T16:26:00.171197Z",
     "iopub.status.idle": "2021-12-22T16:26:00.173936Z",
     "shell.execute_reply": "2021-12-22T16:26:00.174490Z",
     "shell.execute_reply.started": "2021-12-22T16:25:20.216004Z"
    },
    "papermill": {
     "duration": 0.030002,
     "end_time": "2021-12-22T16:26:00.174696",
     "exception": false,
     "start_time": "2021-12-22T16:26:00.144694",
     "status": "completed"
    },
    "tags": []
   },
   "outputs": [
    {
     "data": {
      "text/plain": [
       "PassengerId      0\n",
       "Survived         0\n",
       "Pclass           0\n",
       "Name             0\n",
       "Sex              0\n",
       "Age            177\n",
       "SibSp            0\n",
       "Parch            0\n",
       "Ticket           0\n",
       "Fare             0\n",
       "Cabin          687\n",
       "Embarked         2\n",
       "dtype: int64"
      ]
     },
     "execution_count": 4,
     "metadata": {},
     "output_type": "execute_result"
    }
   ],
   "source": [
    "missing_values_count = train_data.isnull().sum()\n",
    "missing_values_count[0:12]"
   ]
  },
  {
   "cell_type": "code",
   "execution_count": 5,
   "id": "a23e9178",
   "metadata": {
    "execution": {
     "iopub.execute_input": "2021-12-22T16:26:00.214215Z",
     "iopub.status.busy": "2021-12-22T16:26:00.213511Z",
     "iopub.status.idle": "2021-12-22T16:26:00.223439Z",
     "shell.execute_reply": "2021-12-22T16:26:00.222818Z",
     "shell.execute_reply.started": "2021-12-22T16:25:20.228135Z"
    },
    "papermill": {
     "duration": 0.03078,
     "end_time": "2021-12-22T16:26:00.223642",
     "exception": false,
     "start_time": "2021-12-22T16:26:00.192862",
     "status": "completed"
    },
    "tags": []
   },
   "outputs": [
    {
     "data": {
      "text/plain": [
       "PassengerId      0\n",
       "Pclass           0\n",
       "Name             0\n",
       "Sex              0\n",
       "Age             86\n",
       "SibSp            0\n",
       "Parch            0\n",
       "Ticket           0\n",
       "Fare             1\n",
       "Cabin          327\n",
       "Embarked         0\n",
       "dtype: int64"
      ]
     },
     "execution_count": 5,
     "metadata": {},
     "output_type": "execute_result"
    }
   ],
   "source": [
    "missing_values_count = test_data.isnull().sum()\n",
    "missing_values_count[0:11]"
   ]
  },
  {
   "cell_type": "code",
   "execution_count": 6,
   "id": "1962fbce",
   "metadata": {
    "execution": {
     "iopub.execute_input": "2021-12-22T16:26:00.273651Z",
     "iopub.status.busy": "2021-12-22T16:26:00.263511Z",
     "iopub.status.idle": "2021-12-22T16:26:00.290703Z",
     "shell.execute_reply": "2021-12-22T16:26:00.291303Z",
     "shell.execute_reply.started": "2021-12-22T16:25:20.241659Z"
    },
    "papermill": {
     "duration": 0.049542,
     "end_time": "2021-12-22T16:26:00.291503",
     "exception": false,
     "start_time": "2021-12-22T16:26:00.241961",
     "status": "completed"
    },
    "tags": []
   },
   "outputs": [],
   "source": [
    "train_data = train_data.dropna(axis = 0, subset = [\"Embarked\"])#odstranit řádek (axis=0) kde chybí hodnota ve sloupci \"Embarked\" - jsou jenom 2\n",
    "train_data['Sex'] = train_data['Sex'].replace('female', 0 )\n",
    "train_data['Sex'] = train_data['Sex'].replace('male', 1)\n",
    "train_data['Age'] = train_data['Age'].fillna(train_data.Age.mean())#chybějící hodnoty \"Age\" se vyplní průměrem \"Age\"\n",
    "#train_data.Age = train_data.Age.fillna(0)\n",
    "#train_data = train_data.dropna(axis = 0, subset = [\"Age\"])\n",
    "train_data['Embarked_s'] = train_data['Embarked'].replace('Q',0).replace('C',0).replace('S',1)\n",
    "train_data['Embarked_c'] = train_data['Embarked'].replace('S',0).replace('Q',0).replace('C',1)\n",
    "train_data['Embarked_q'] = train_data['Embarked'].replace('C',0).replace('S',0).replace('Q',1)"
   ]
  },
  {
   "cell_type": "code",
   "execution_count": 7,
   "id": "ed672d77",
   "metadata": {
    "execution": {
     "iopub.execute_input": "2021-12-22T16:26:00.333284Z",
     "iopub.status.busy": "2021-12-22T16:26:00.332193Z",
     "iopub.status.idle": "2021-12-22T16:26:00.351754Z",
     "shell.execute_reply": "2021-12-22T16:26:00.352321Z",
     "shell.execute_reply.started": "2021-12-22T16:25:20.269737Z"
    },
    "papermill": {
     "duration": 0.042398,
     "end_time": "2021-12-22T16:26:00.352525",
     "exception": false,
     "start_time": "2021-12-22T16:26:00.310127",
     "status": "completed"
    },
    "tags": []
   },
   "outputs": [
    {
     "data": {
      "text/html": [
       "<div>\n",
       "<style scoped>\n",
       "    .dataframe tbody tr th:only-of-type {\n",
       "        vertical-align: middle;\n",
       "    }\n",
       "\n",
       "    .dataframe tbody tr th {\n",
       "        vertical-align: top;\n",
       "    }\n",
       "\n",
       "    .dataframe thead th {\n",
       "        text-align: right;\n",
       "    }\n",
       "</style>\n",
       "<table border=\"1\" class=\"dataframe\">\n",
       "  <thead>\n",
       "    <tr style=\"text-align: right;\">\n",
       "      <th></th>\n",
       "      <th>PassengerId</th>\n",
       "      <th>Survived</th>\n",
       "      <th>Pclass</th>\n",
       "      <th>Name</th>\n",
       "      <th>Sex</th>\n",
       "      <th>Age</th>\n",
       "      <th>SibSp</th>\n",
       "      <th>Parch</th>\n",
       "      <th>Ticket</th>\n",
       "      <th>Fare</th>\n",
       "      <th>Cabin</th>\n",
       "      <th>Embarked</th>\n",
       "      <th>Embarked_s</th>\n",
       "      <th>Embarked_c</th>\n",
       "      <th>Embarked_q</th>\n",
       "    </tr>\n",
       "  </thead>\n",
       "  <tbody>\n",
       "    <tr>\n",
       "      <th>0</th>\n",
       "      <td>1</td>\n",
       "      <td>0</td>\n",
       "      <td>3</td>\n",
       "      <td>Braund, Mr. Owen Harris</td>\n",
       "      <td>1</td>\n",
       "      <td>22.0</td>\n",
       "      <td>1</td>\n",
       "      <td>0</td>\n",
       "      <td>A/5 21171</td>\n",
       "      <td>7.2500</td>\n",
       "      <td>NaN</td>\n",
       "      <td>S</td>\n",
       "      <td>1</td>\n",
       "      <td>0</td>\n",
       "      <td>0</td>\n",
       "    </tr>\n",
       "    <tr>\n",
       "      <th>1</th>\n",
       "      <td>2</td>\n",
       "      <td>1</td>\n",
       "      <td>1</td>\n",
       "      <td>Cumings, Mrs. John Bradley (Florence Briggs Th...</td>\n",
       "      <td>0</td>\n",
       "      <td>38.0</td>\n",
       "      <td>1</td>\n",
       "      <td>0</td>\n",
       "      <td>PC 17599</td>\n",
       "      <td>71.2833</td>\n",
       "      <td>C85</td>\n",
       "      <td>C</td>\n",
       "      <td>0</td>\n",
       "      <td>1</td>\n",
       "      <td>0</td>\n",
       "    </tr>\n",
       "    <tr>\n",
       "      <th>2</th>\n",
       "      <td>3</td>\n",
       "      <td>1</td>\n",
       "      <td>3</td>\n",
       "      <td>Heikkinen, Miss. Laina</td>\n",
       "      <td>0</td>\n",
       "      <td>26.0</td>\n",
       "      <td>0</td>\n",
       "      <td>0</td>\n",
       "      <td>STON/O2. 3101282</td>\n",
       "      <td>7.9250</td>\n",
       "      <td>NaN</td>\n",
       "      <td>S</td>\n",
       "      <td>1</td>\n",
       "      <td>0</td>\n",
       "      <td>0</td>\n",
       "    </tr>\n",
       "    <tr>\n",
       "      <th>3</th>\n",
       "      <td>4</td>\n",
       "      <td>1</td>\n",
       "      <td>1</td>\n",
       "      <td>Futrelle, Mrs. Jacques Heath (Lily May Peel)</td>\n",
       "      <td>0</td>\n",
       "      <td>35.0</td>\n",
       "      <td>1</td>\n",
       "      <td>0</td>\n",
       "      <td>113803</td>\n",
       "      <td>53.1000</td>\n",
       "      <td>C123</td>\n",
       "      <td>S</td>\n",
       "      <td>1</td>\n",
       "      <td>0</td>\n",
       "      <td>0</td>\n",
       "    </tr>\n",
       "    <tr>\n",
       "      <th>4</th>\n",
       "      <td>5</td>\n",
       "      <td>0</td>\n",
       "      <td>3</td>\n",
       "      <td>Allen, Mr. William Henry</td>\n",
       "      <td>1</td>\n",
       "      <td>35.0</td>\n",
       "      <td>0</td>\n",
       "      <td>0</td>\n",
       "      <td>373450</td>\n",
       "      <td>8.0500</td>\n",
       "      <td>NaN</td>\n",
       "      <td>S</td>\n",
       "      <td>1</td>\n",
       "      <td>0</td>\n",
       "      <td>0</td>\n",
       "    </tr>\n",
       "  </tbody>\n",
       "</table>\n",
       "</div>"
      ],
      "text/plain": [
       "   PassengerId  Survived  Pclass  \\\n",
       "0            1         0       3   \n",
       "1            2         1       1   \n",
       "2            3         1       3   \n",
       "3            4         1       1   \n",
       "4            5         0       3   \n",
       "\n",
       "                                                Name  Sex   Age  SibSp  Parch  \\\n",
       "0                            Braund, Mr. Owen Harris    1  22.0      1      0   \n",
       "1  Cumings, Mrs. John Bradley (Florence Briggs Th...    0  38.0      1      0   \n",
       "2                             Heikkinen, Miss. Laina    0  26.0      0      0   \n",
       "3       Futrelle, Mrs. Jacques Heath (Lily May Peel)    0  35.0      1      0   \n",
       "4                           Allen, Mr. William Henry    1  35.0      0      0   \n",
       "\n",
       "             Ticket     Fare Cabin Embarked  Embarked_s  Embarked_c  \\\n",
       "0         A/5 21171   7.2500   NaN        S           1           0   \n",
       "1          PC 17599  71.2833   C85        C           0           1   \n",
       "2  STON/O2. 3101282   7.9250   NaN        S           1           0   \n",
       "3            113803  53.1000  C123        S           1           0   \n",
       "4            373450   8.0500   NaN        S           1           0   \n",
       "\n",
       "   Embarked_q  \n",
       "0           0  \n",
       "1           0  \n",
       "2           0  \n",
       "3           0  \n",
       "4           0  "
      ]
     },
     "execution_count": 7,
     "metadata": {},
     "output_type": "execute_result"
    }
   ],
   "source": [
    "train_data.head()"
   ]
  },
  {
   "cell_type": "code",
   "execution_count": 8,
   "id": "aa97de69",
   "metadata": {
    "execution": {
     "iopub.execute_input": "2021-12-22T16:26:00.395469Z",
     "iopub.status.busy": "2021-12-22T16:26:00.394366Z",
     "iopub.status.idle": "2021-12-22T16:26:00.411799Z",
     "shell.execute_reply": "2021-12-22T16:26:00.412347Z",
     "shell.execute_reply.started": "2021-12-22T16:25:20.288322Z"
    },
    "papermill": {
     "duration": 0.040236,
     "end_time": "2021-12-22T16:26:00.412567",
     "exception": false,
     "start_time": "2021-12-22T16:26:00.372331",
     "status": "completed"
    },
    "tags": []
   },
   "outputs": [],
   "source": [
    "test_data = test_data.dropna(axis = 0, subset = [\"Fare\"])#odstranění řádku s výskytem prázdné hodnoty(je jen jeden)\n",
    "test_data['Age'] = test_data['Age'].fillna(test_data.Age.mean())\n",
    "#test_data['Age'] = test_data['Age'].fillna(0)\n",
    "test_data['Sex'] = test_data['Sex'].replace('female', 0)\n",
    "test_data['Sex'] = test_data['Sex'].replace('male', 1)\n",
    "test_data['Embarked_s'] = test_data['Embarked'].replace('Q',0).replace('C',0).replace('S',1)\n",
    "test_data['Embarked_c'] = test_data['Embarked'].replace('S',0).replace('Q',0).replace('C',1)\n",
    "test_data['Embarked_q'] = test_data['Embarked'].replace('C',0).replace('S',0).replace('Q',1)"
   ]
  },
  {
   "cell_type": "code",
   "execution_count": 9,
   "id": "3843d230",
   "metadata": {
    "execution": {
     "iopub.execute_input": "2021-12-22T16:26:00.456524Z",
     "iopub.status.busy": "2021-12-22T16:26:00.455839Z",
     "iopub.status.idle": "2021-12-22T16:26:00.475557Z",
     "shell.execute_reply": "2021-12-22T16:26:00.474921Z",
     "shell.execute_reply.started": "2021-12-22T16:25:20.308856Z"
    },
    "papermill": {
     "duration": 0.041752,
     "end_time": "2021-12-22T16:26:00.475734",
     "exception": false,
     "start_time": "2021-12-22T16:26:00.433982",
     "status": "completed"
    },
    "tags": []
   },
   "outputs": [
    {
     "data": {
      "text/html": [
       "<div>\n",
       "<style scoped>\n",
       "    .dataframe tbody tr th:only-of-type {\n",
       "        vertical-align: middle;\n",
       "    }\n",
       "\n",
       "    .dataframe tbody tr th {\n",
       "        vertical-align: top;\n",
       "    }\n",
       "\n",
       "    .dataframe thead th {\n",
       "        text-align: right;\n",
       "    }\n",
       "</style>\n",
       "<table border=\"1\" class=\"dataframe\">\n",
       "  <thead>\n",
       "    <tr style=\"text-align: right;\">\n",
       "      <th></th>\n",
       "      <th>PassengerId</th>\n",
       "      <th>Pclass</th>\n",
       "      <th>Name</th>\n",
       "      <th>Sex</th>\n",
       "      <th>Age</th>\n",
       "      <th>SibSp</th>\n",
       "      <th>Parch</th>\n",
       "      <th>Ticket</th>\n",
       "      <th>Fare</th>\n",
       "      <th>Cabin</th>\n",
       "      <th>Embarked</th>\n",
       "      <th>Embarked_s</th>\n",
       "      <th>Embarked_c</th>\n",
       "      <th>Embarked_q</th>\n",
       "    </tr>\n",
       "  </thead>\n",
       "  <tbody>\n",
       "    <tr>\n",
       "      <th>0</th>\n",
       "      <td>892</td>\n",
       "      <td>3</td>\n",
       "      <td>Kelly, Mr. James</td>\n",
       "      <td>1</td>\n",
       "      <td>34.5</td>\n",
       "      <td>0</td>\n",
       "      <td>0</td>\n",
       "      <td>330911</td>\n",
       "      <td>7.8292</td>\n",
       "      <td>NaN</td>\n",
       "      <td>Q</td>\n",
       "      <td>0</td>\n",
       "      <td>0</td>\n",
       "      <td>1</td>\n",
       "    </tr>\n",
       "    <tr>\n",
       "      <th>1</th>\n",
       "      <td>893</td>\n",
       "      <td>3</td>\n",
       "      <td>Wilkes, Mrs. James (Ellen Needs)</td>\n",
       "      <td>0</td>\n",
       "      <td>47.0</td>\n",
       "      <td>1</td>\n",
       "      <td>0</td>\n",
       "      <td>363272</td>\n",
       "      <td>7.0000</td>\n",
       "      <td>NaN</td>\n",
       "      <td>S</td>\n",
       "      <td>1</td>\n",
       "      <td>0</td>\n",
       "      <td>0</td>\n",
       "    </tr>\n",
       "    <tr>\n",
       "      <th>2</th>\n",
       "      <td>894</td>\n",
       "      <td>2</td>\n",
       "      <td>Myles, Mr. Thomas Francis</td>\n",
       "      <td>1</td>\n",
       "      <td>62.0</td>\n",
       "      <td>0</td>\n",
       "      <td>0</td>\n",
       "      <td>240276</td>\n",
       "      <td>9.6875</td>\n",
       "      <td>NaN</td>\n",
       "      <td>Q</td>\n",
       "      <td>0</td>\n",
       "      <td>0</td>\n",
       "      <td>1</td>\n",
       "    </tr>\n",
       "    <tr>\n",
       "      <th>3</th>\n",
       "      <td>895</td>\n",
       "      <td>3</td>\n",
       "      <td>Wirz, Mr. Albert</td>\n",
       "      <td>1</td>\n",
       "      <td>27.0</td>\n",
       "      <td>0</td>\n",
       "      <td>0</td>\n",
       "      <td>315154</td>\n",
       "      <td>8.6625</td>\n",
       "      <td>NaN</td>\n",
       "      <td>S</td>\n",
       "      <td>1</td>\n",
       "      <td>0</td>\n",
       "      <td>0</td>\n",
       "    </tr>\n",
       "    <tr>\n",
       "      <th>4</th>\n",
       "      <td>896</td>\n",
       "      <td>3</td>\n",
       "      <td>Hirvonen, Mrs. Alexander (Helga E Lindqvist)</td>\n",
       "      <td>0</td>\n",
       "      <td>22.0</td>\n",
       "      <td>1</td>\n",
       "      <td>1</td>\n",
       "      <td>3101298</td>\n",
       "      <td>12.2875</td>\n",
       "      <td>NaN</td>\n",
       "      <td>S</td>\n",
       "      <td>1</td>\n",
       "      <td>0</td>\n",
       "      <td>0</td>\n",
       "    </tr>\n",
       "  </tbody>\n",
       "</table>\n",
       "</div>"
      ],
      "text/plain": [
       "   PassengerId  Pclass                                          Name  Sex  \\\n",
       "0          892       3                              Kelly, Mr. James    1   \n",
       "1          893       3              Wilkes, Mrs. James (Ellen Needs)    0   \n",
       "2          894       2                     Myles, Mr. Thomas Francis    1   \n",
       "3          895       3                              Wirz, Mr. Albert    1   \n",
       "4          896       3  Hirvonen, Mrs. Alexander (Helga E Lindqvist)    0   \n",
       "\n",
       "    Age  SibSp  Parch   Ticket     Fare Cabin Embarked  Embarked_s  \\\n",
       "0  34.5      0      0   330911   7.8292   NaN        Q           0   \n",
       "1  47.0      1      0   363272   7.0000   NaN        S           1   \n",
       "2  62.0      0      0   240276   9.6875   NaN        Q           0   \n",
       "3  27.0      0      0   315154   8.6625   NaN        S           1   \n",
       "4  22.0      1      1  3101298  12.2875   NaN        S           1   \n",
       "\n",
       "   Embarked_c  Embarked_q  \n",
       "0           0           1  \n",
       "1           0           0  \n",
       "2           0           1  \n",
       "3           0           0  \n",
       "4           0           0  "
      ]
     },
     "execution_count": 9,
     "metadata": {},
     "output_type": "execute_result"
    }
   ],
   "source": [
    "test_data.head()"
   ]
  },
  {
   "cell_type": "code",
   "execution_count": 10,
   "id": "4569c8ce",
   "metadata": {
    "execution": {
     "iopub.execute_input": "2021-12-22T16:26:00.527278Z",
     "iopub.status.busy": "2021-12-22T16:26:00.526560Z",
     "iopub.status.idle": "2021-12-22T16:26:00.529281Z",
     "shell.execute_reply": "2021-12-22T16:26:00.529864Z",
     "shell.execute_reply.started": "2021-12-22T16:25:20.331080Z"
    },
    "papermill": {
     "duration": 0.033779,
     "end_time": "2021-12-22T16:26:00.530058",
     "exception": false,
     "start_time": "2021-12-22T16:26:00.496279",
     "status": "completed"
    },
    "tags": []
   },
   "outputs": [
    {
     "data": {
      "text/plain": [
       "PassengerId      0\n",
       "Survived         0\n",
       "Pclass           0\n",
       "Name             0\n",
       "Sex              0\n",
       "Age              0\n",
       "SibSp            0\n",
       "Parch            0\n",
       "Ticket           0\n",
       "Fare             0\n",
       "Cabin          687\n",
       "Embarked         0\n",
       "Embarked_s       0\n",
       "Embarked_c       0\n",
       "Embarked_q       0\n",
       "dtype: int64"
      ]
     },
     "execution_count": 10,
     "metadata": {},
     "output_type": "execute_result"
    }
   ],
   "source": [
    "train_data.isnull().sum()"
   ]
  },
  {
   "cell_type": "code",
   "execution_count": 11,
   "id": "9d4c71f5",
   "metadata": {
    "execution": {
     "iopub.execute_input": "2021-12-22T16:26:00.573819Z",
     "iopub.status.busy": "2021-12-22T16:26:00.573064Z",
     "iopub.status.idle": "2021-12-22T16:26:00.581441Z",
     "shell.execute_reply": "2021-12-22T16:26:00.582169Z",
     "shell.execute_reply.started": "2021-12-22T16:25:20.341906Z"
    },
    "papermill": {
     "duration": 0.032261,
     "end_time": "2021-12-22T16:26:00.582374",
     "exception": false,
     "start_time": "2021-12-22T16:26:00.550113",
     "status": "completed"
    },
    "tags": []
   },
   "outputs": [
    {
     "data": {
      "text/plain": [
       "PassengerId      0\n",
       "Pclass           0\n",
       "Name             0\n",
       "Sex              0\n",
       "Age              0\n",
       "SibSp            0\n",
       "Parch            0\n",
       "Ticket           0\n",
       "Fare             0\n",
       "Cabin          326\n",
       "Embarked         0\n",
       "Embarked_s       0\n",
       "Embarked_c       0\n",
       "Embarked_q       0\n",
       "dtype: int64"
      ]
     },
     "execution_count": 11,
     "metadata": {},
     "output_type": "execute_result"
    }
   ],
   "source": [
    "test_data.isnull().sum()"
   ]
  },
  {
   "cell_type": "code",
   "execution_count": 12,
   "id": "bfd571f4",
   "metadata": {
    "execution": {
     "iopub.execute_input": "2021-12-22T16:26:00.631283Z",
     "iopub.status.busy": "2021-12-22T16:26:00.626169Z",
     "iopub.status.idle": "2021-12-22T16:26:00.916960Z",
     "shell.execute_reply": "2021-12-22T16:26:00.917795Z",
     "shell.execute_reply.started": "2021-12-22T16:25:20.356664Z"
    },
    "papermill": {
     "duration": 0.315292,
     "end_time": "2021-12-22T16:26:00.918002",
     "exception": false,
     "start_time": "2021-12-22T16:26:00.602710",
     "status": "completed"
    },
    "tags": []
   },
   "outputs": [
    {
     "name": "stdout",
     "output_type": "stream",
     "text": [
      "0.987987987987988\n"
     ]
    }
   ],
   "source": [
    "y = train_data.Survived\n",
    "\n",
    "features = [\"Pclass\", \"Sex\", \"Age\", \"SibSp\", \"Parch\", \"Fare\", \"Embarked_s\", \"Embarked_q\", \"Embarked_c\"]\n",
    "X = train_data[features]\n",
    "\n",
    "train_X, val_X, train_y, val_y = train_test_split(X, y, random_state=1)\n",
    "\n",
    "model = RandomForestClassifier(n_estimators=100, random_state=1)\n",
    "#model = LogisticRegression(solver='liblinear', random_state=1)#78%\n",
    "model.fit(train_X, train_y)\n",
    "val_predictions = model.predict(val_X)\n",
    "\n",
    "val_acc = model.score(train_X, train_y)\n",
    "\n",
    "print(val_acc)"
   ]
  },
  {
   "cell_type": "code",
   "execution_count": 13,
   "id": "b7df8e9b",
   "metadata": {
    "execution": {
     "iopub.execute_input": "2021-12-22T16:26:00.964505Z",
     "iopub.status.busy": "2021-12-22T16:26:00.963388Z",
     "iopub.status.idle": "2021-12-22T16:26:01.223055Z",
     "shell.execute_reply": "2021-12-22T16:26:01.223677Z",
     "shell.execute_reply.started": "2021-12-22T16:25:20.628374Z"
    },
    "papermill": {
     "duration": 0.284878,
     "end_time": "2021-12-22T16:26:01.223875",
     "exception": false,
     "start_time": "2021-12-22T16:26:00.938997",
     "status": "completed"
    },
    "tags": []
   },
   "outputs": [
    {
     "data": {
      "text/plain": [
       "RandomForestClassifier(random_state=1)"
      ]
     },
     "execution_count": 13,
     "metadata": {},
     "output_type": "execute_result"
    }
   ],
   "source": [
    "#trénování na všech trénovacích datech\n",
    "model_on_full_data = RandomForestClassifier(n_estimators=100, random_state=1)\n",
    "#model_on_full_data = LogisticRegression(solver='liblinear', random_state = 1)\n",
    "\n",
    "model_on_full_data.fit(X, y)"
   ]
  },
  {
   "cell_type": "code",
   "execution_count": 14,
   "id": "a1c55ddf",
   "metadata": {
    "execution": {
     "iopub.execute_input": "2021-12-22T16:26:01.273644Z",
     "iopub.status.busy": "2021-12-22T16:26:01.272876Z",
     "iopub.status.idle": "2021-12-22T16:26:01.298615Z",
     "shell.execute_reply": "2021-12-22T16:26:01.297813Z",
     "shell.execute_reply.started": "2021-12-22T16:25:20.876249Z"
    },
    "papermill": {
     "duration": 0.053272,
     "end_time": "2021-12-22T16:26:01.298786",
     "exception": false,
     "start_time": "2021-12-22T16:26:01.245514",
     "status": "completed"
    },
    "tags": []
   },
   "outputs": [],
   "source": [
    "#predikce na předpřipravených testovacích datech\n",
    "test_X = test_data[features]\n",
    " \n",
    "test_preds = model_on_full_data.predict(test_X)"
   ]
  },
  {
   "cell_type": "code",
   "execution_count": 15,
   "id": "aef7b995",
   "metadata": {
    "execution": {
     "iopub.execute_input": "2021-12-22T16:26:01.348846Z",
     "iopub.status.busy": "2021-12-22T16:26:01.347710Z",
     "iopub.status.idle": "2021-12-22T16:26:01.351750Z",
     "shell.execute_reply": "2021-12-22T16:26:01.352295Z",
     "shell.execute_reply.started": "2021-12-22T16:25:20.901683Z"
    },
    "papermill": {
     "duration": 0.032336,
     "end_time": "2021-12-22T16:26:01.352518",
     "exception": false,
     "start_time": "2021-12-22T16:26:01.320182",
     "status": "completed"
    },
    "tags": []
   },
   "outputs": [
    {
     "name": "stdout",
     "output_type": "stream",
     "text": [
      "[0 0 0 1 1 0 0 0 1 0 0 0 1 0 1 1 0 1 0 1 1 1 1 1 1 0 1 1 1 0 0 0 1 0 1 1 0\n",
      " 0 0 1 0 1 0 1 1 0 0 0 1 1 0 0 1 1 0 0 0 0 0 1 0 0 0 1 0 1 1 0 0 1 1 0 0 0\n",
      " 1 0 0 1 0 1 1 0 0 0 0 0 1 0 0 1 0 0 1 0 0 0 1 0 0 0 1 0 0 0 1 0 0 0 0 0 0\n",
      " 0 1 1 1 0 0 1 0 1 1 0 1 0 0 1 0 1 0 0 1 0 0 0 0 0 0 0 0 0 0 1 0 0 1 0 0 0\n",
      " 1 0 1 0 1 0 0 1 0 1 1 0 1 1 0 0 0 0 0 1 0 0 0 0 0 0 1 1 1 1 1 0 0 1 0 1 0\n",
      " 1 0 0 0 0 0 1 0 1 0 1 0 0 0 1 1 0 1 0 0 0 0 1 0 0 0 0 0 0 0 1 0 1 0 1 0 1\n",
      " 1 1 0 0 0 0 0 0 1 0 0 1 0 1 1 1 1 1 1 0 0 0 0 1 0 1 0 1 0 0 0 0 0 0 0 1 0\n",
      " 0 0 1 1 0 0 0 0 0 0 0 0 1 1 0 1 0 0 0 0 0 1 0 0 1 0 0 0 0 0 0 0 0 0 0 0 1\n",
      " 0 0 0 0 0 0 0 0 1 1 1 0 0 0 1 0 0 1 1 0 0 0 0 0 0 0 1 1 0 1 0 0 0 1 1 0 1\n",
      " 0 0 0 0 0 0 0 0 0 1 0 1 0 1 0 1 1 0 0 0 1 0 1 0 0 1 0 1 1 1 1 0 0 0 1 1 0\n",
      " 1 0 0 1 1 0 0 0 0 0 0 1 0 0 1 0 0 0 0 0 1 0 0 0 1 0 1 0 0 1 0 1 0 0 0 0 0\n",
      " 0 1 0 1 0 0 1 0 0 1]\n"
     ]
    }
   ],
   "source": [
    "print(test_preds)"
   ]
  },
  {
   "cell_type": "code",
   "execution_count": 16,
   "id": "a60fafc4",
   "metadata": {
    "execution": {
     "iopub.execute_input": "2021-12-22T16:26:01.399745Z",
     "iopub.status.busy": "2021-12-22T16:26:01.398638Z",
     "iopub.status.idle": "2021-12-22T16:26:01.409128Z",
     "shell.execute_reply": "2021-12-22T16:26:01.408522Z",
     "shell.execute_reply.started": "2021-12-22T16:25:20.908682Z"
    },
    "papermill": {
     "duration": 0.035366,
     "end_time": "2021-12-22T16:26:01.409294",
     "exception": false,
     "start_time": "2021-12-22T16:26:01.373928",
     "status": "completed"
    },
    "tags": []
   },
   "outputs": [],
   "source": [
    "output = pd.DataFrame({'PassengerId': test_data['PassengerId'],'Survived': test_preds})\n",
    "output.to_csv('submission3.csv', index=False)"
   ]
  },
  {
   "cell_type": "code",
   "execution_count": 17,
   "id": "2c35a98c",
   "metadata": {
    "execution": {
     "iopub.execute_input": "2021-12-22T16:26:01.461816Z",
     "iopub.status.busy": "2021-12-22T16:26:01.460773Z",
     "iopub.status.idle": "2021-12-22T16:26:01.464207Z",
     "shell.execute_reply": "2021-12-22T16:26:01.464811Z",
     "shell.execute_reply.started": "2021-12-22T16:25:20.925153Z"
    },
    "papermill": {
     "duration": 0.034028,
     "end_time": "2021-12-22T16:26:01.465006",
     "exception": false,
     "start_time": "2021-12-22T16:26:01.430978",
     "status": "completed"
    },
    "tags": []
   },
   "outputs": [
    {
     "name": "stdout",
     "output_type": "stream",
     "text": [
      "     PassengerId  Survived\n",
      "0            892         0\n",
      "1            893         0\n",
      "2            894         0\n",
      "3            895         1\n",
      "4            896         1\n",
      "..           ...       ...\n",
      "413         1305         0\n",
      "414         1306         1\n",
      "415         1307         0\n",
      "416         1308         0\n",
      "417         1309         1\n",
      "\n",
      "[417 rows x 2 columns]\n"
     ]
    }
   ],
   "source": [
    "print(output)"
   ]
  }
 ],
 "metadata": {
  "kernelspec": {
   "display_name": "Python 3",
   "language": "python",
   "name": "python3"
  },
  "language_info": {
   "codemirror_mode": {
    "name": "ipython",
    "version": 3
   },
   "file_extension": ".py",
   "mimetype": "text/x-python",
   "name": "python",
   "nbconvert_exporter": "python",
   "pygments_lexer": "ipython3",
   "version": "3.7.10"
  },
  "papermill": {
   "default_parameters": {},
   "duration": 13.70133,
   "end_time": "2021-12-22T16:26:02.198781",
   "environment_variables": {},
   "exception": null,
   "input_path": "__notebook__.ipynb",
   "output_path": "__notebook__.ipynb",
   "parameters": {},
   "start_time": "2021-12-22T16:25:48.497451",
   "version": "2.3.3"
  }
 },
 "nbformat": 4,
 "nbformat_minor": 5
}
